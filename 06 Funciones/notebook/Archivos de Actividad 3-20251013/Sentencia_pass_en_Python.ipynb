{
  "nbformat": 4,
  "nbformat_minor": 0,
  "metadata": {
    "colab": {
      "provenance": []
    },
    "kernelspec": {
      "name": "python3",
      "display_name": "Python 3"
    },
    "language_info": {
      "name": "python"
    }
  },
  "cells": [
    {
      "cell_type": "markdown",
      "source": [
        "# 🧱 Uso de la sentencia `pass` en Python\n",
        "\n",
        "`pass` es una sentencia especial en Python que se usa como **marcador de posición**.  \n",
        "Sirve para dejar bloques de código vacíos sin que se genere un error.\n",
        "\n",
        "---\n",
        "\n",
        "## 🔹 Uso básico\n"
      ],
      "metadata": {
        "id": "O3BXqiqQ0Mkc"
      }
    },
    {
      "cell_type": "code",
      "execution_count": null,
      "metadata": {
        "id": "jFjmB6rGz6hu"
      },
      "outputs": [],
      "source": [
        "def funcion_vacia():\n",
        "    pass  # No hace nada por ahora\n",
        "\n",
        "class ClaseVacia:\n",
        "    pass\n",
        "\n",
        "print(\"El programa sigue ejecutándose correctamente.\")\n"
      ]
    },
    {
      "cell_type": "markdown",
      "source": [
        "---\n",
        "\n",
        "## 🔹 Uso en estructuras de control\n",
        "\n",
        "También podés usar `pass` en estructuras como `if`, `for`, `while`, etc.\n"
      ],
      "metadata": {
        "id": "ZtZ146Sy0PJz"
      }
    },
    {
      "cell_type": "code",
      "source": [
        "for i in range(3):\n",
        "    pass  # Lógica a completar más adelante\n",
        "\n",
        "if True:\n",
        "    pass\n",
        "\n",
        "while False:\n",
        "    pass\n"
      ],
      "metadata": {
        "id": "G1KwbCUo0RyD"
      },
      "execution_count": null,
      "outputs": []
    },
    {
      "cell_type": "markdown",
      "source": [
        "🔍 Esto es útil si estás escribiendo el esqueleto del programa y querés evitar errores de indentación.\n",
        "\n",
        "---\n",
        "\n",
        "## 🔹 ¿Por qué usar `pass`?\n",
        "\n",
        "Imaginá que querés definir una función, clase o estructura que **todavía no implementaste**.  \n",
        "Si la dejás vacía, Python lanzará un error. Con `pass`, podés dejarlo incompleto de forma segura.\n",
        "\n",
        "---\n",
        "\n",
        "## ✅ Actividad sugerida\n",
        "\n",
        "🧠 Creá:\n",
        "- Una función vacía usando `pass`.\n",
        "- Una clase sin métodos.\n",
        "- Una estructura `if` y un bucle `for` con `pass` mientras planeás la lógica futura.\n",
        "\n",
        "✅ Ejecutá el código para comprobar que no da error.\n"
      ],
      "metadata": {
        "id": "Bx9F-p3Z0T2U"
      }
    },
    {
      "cell_type": "code",
      "source": [],
      "metadata": {
        "id": "Tnq0ImUA0YoM"
      },
      "execution_count": null,
      "outputs": []
    }
  ]
}