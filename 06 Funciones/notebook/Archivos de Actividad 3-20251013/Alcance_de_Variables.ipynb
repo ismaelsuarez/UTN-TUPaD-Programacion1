{
  "nbformat": 4,
  "nbformat_minor": 0,
  "metadata": {
    "colab": {
      "provenance": []
    },
    "kernelspec": {
      "name": "python3",
      "display_name": "Python 3"
    },
    "language_info": {
      "name": "python"
    }
  },
  "cells": [
    {
      "cell_type": "markdown",
      "source": [
        "# 🎯 Scope en Python – Alcance de Variables\n",
        "\n",
        "En este notebook vamos a aprender cómo funciona el **scope** (alcance) de las variables en Python.  \n",
        "Comprender esto es clave para evitar errores al trabajar con funciones y estructuras de control.\n",
        "\n",
        "---\n",
        "\n",
        "## 🔹 Scope Local y Global\n",
        "\n",
        "Una variable puede tener **alcance global** (fuera de funciones) o **alcance local** (dentro de una función).\n"
      ],
      "metadata": {
        "id": "8VSxAdI7yX0a"
      }
    },
    {
      "cell_type": "code",
      "execution_count": null,
      "metadata": {
        "id": "zY6t9WAYv_TU"
      },
      "outputs": [],
      "source": [
        "x = 10  # Variable global\n",
        "\n",
        "def mostrar():\n",
        "    x = 5  # Variable local\n",
        "    print(\"Dentro de la función:\", x)\n",
        "\n",
        "mostrar()\n",
        "print(\"Fuera de la función:\", x)\n"
      ]
    },
    {
      "cell_type": "markdown",
      "source": [
        "👉 Como podés ver, la variable `x` dentro de la función es **independiente** de la que está fuera.  \n",
        "Esto significa que tienen **alcances diferentes**.\n",
        "\n",
        "---\n",
        "\n",
        "## 🔸 Modificar una variable global desde una función\n",
        "\n",
        "Para modificar una variable global desde una función, se debe usar la palabra clave `global`.\n"
      ],
      "metadata": {
        "id": "1FIeMoHDyeyC"
      }
    },
    {
      "cell_type": "code",
      "source": [
        "y = 20\n",
        "\n",
        "def modificar():\n",
        "    global y\n",
        "    y = y + 5\n",
        "    print(\"Dentro de la función:\", y)\n",
        "\n",
        "modificar()\n",
        "print(\"Fuera de la función:\", y)\n"
      ],
      "metadata": {
        "id": "WS_Ycg0iyiIL"
      },
      "execution_count": null,
      "outputs": []
    },
    {
      "cell_type": "markdown",
      "source": [
        "🔍 Sin `global`, Python intentaría crear una nueva variable local llamada `y`.\n",
        "\n",
        "---\n",
        "\n",
        "## 🔸 Variable local que oculta una global\n"
      ],
      "metadata": {
        "id": "rkIznNTSykIT"
      }
    },
    {
      "cell_type": "code",
      "source": [
        "z = 50\n",
        "\n",
        "def ejemplo():\n",
        "    z = 100  # Esta variable es local, no afecta a la global\n",
        "    print(\"z local:\", z)\n",
        "\n",
        "ejemplo()\n",
        "print(\"z global:\", z)\n"
      ],
      "metadata": {
        "id": "4Dyxbb7synQD"
      },
      "execution_count": null,
      "outputs": []
    },
    {
      "cell_type": "markdown",
      "source": [
        "---\n",
        "\n",
        "## ✅ Actividad sugerida\n",
        "\n",
        "📌 Escribí una función que defina una variable local e intentá acceder a ella fuera de la función.  \n",
        "¿Qué error aparece? ¿Por qué ocurre?\n"
      ],
      "metadata": {
        "id": "aYxU38x1yqmT"
      }
    },
    {
      "cell_type": "code",
      "source": [],
      "metadata": {
        "id": "bJyE-ciKy7at"
      },
      "execution_count": null,
      "outputs": []
    }
  ]
}