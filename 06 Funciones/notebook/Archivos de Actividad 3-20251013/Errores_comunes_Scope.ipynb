{
  "nbformat": 4,
  "nbformat_minor": 0,
  "metadata": {
    "colab": {
      "provenance": []
    },
    "kernelspec": {
      "name": "python3",
      "display_name": "Python 3"
    },
    "language_info": {
      "name": "python"
    }
  },
  "cells": [
    {
      "cell_type": "markdown",
      "source": [
        "# ⚠️ Errores comunes con el alcance de variables (Scope)\n",
        "\n",
        "En este notebook vamos a repasar **errores frecuentes** relacionados con el alcance de las variables.\n",
        "\n",
        "---\n",
        "\n",
        "## ❌ Error: Usar una variable antes de definirla\n"
      ],
      "metadata": {
        "id": "jgAtosBf0kC2"
      }
    },
    {
      "cell_type": "code",
      "execution_count": null,
      "metadata": {
        "id": "M8deyO7X0fSS"
      },
      "outputs": [],
      "source": [
        "def error_variable():\n",
        "    print(\"Valor de a:\", a)  # Esto generará un error\n",
        "    a = 10\n",
        "\n",
        "# error_variable()  # Descomentalo para ver el error\n"
      ]
    },
    {
      "cell_type": "markdown",
      "source": [
        "🧠 Aunque parezca que `a` es una variable global, al asignarla dentro de la función, Python la trata como local.  \n",
        "Por eso da error: intentamos leerla antes de definirla.\n",
        "\n",
        "---\n",
        "\n",
        "## ❌ Error: Modificar una variable global sin declararla\n"
      ],
      "metadata": {
        "id": "V-WpCL1q0mhd"
      }
    },
    {
      "cell_type": "code",
      "source": [
        "b = 5\n",
        "\n",
        "def error_global():\n",
        "    b = b + 1  # Interpreta que es local, pero no fue inicializada\n",
        "    print(b)\n",
        "\n",
        "# error_global()  # Descomentalo para ver el error\n"
      ],
      "metadata": {
        "id": "ZG2-y8RN0oDl"
      },
      "execution_count": null,
      "outputs": []
    },
    {
      "cell_type": "markdown",
      "source": [
        "💡 Para modificarla correctamente, debemos usar `global`:\n",
        "\n",
        "---\n"
      ],
      "metadata": {
        "id": "0dks4u7H0pXN"
      }
    },
    {
      "cell_type": "code",
      "source": [
        "c = 10\n",
        "\n",
        "def corregido():\n",
        "    global c\n",
        "    c += 5\n",
        "    print(\"Variable c modificada:\", c)\n",
        "\n",
        "corregido()\n"
      ],
      "metadata": {
        "id": "zy4bw7PN0qmV"
      },
      "execution_count": null,
      "outputs": []
    },
    {
      "cell_type": "markdown",
      "source": [
        "---\n",
        "\n",
        "## ✅ Actividad sugerida\n",
        "\n",
        "📝 Creá un ejemplo donde intentes usar una variable fuera de su alcance y corregilo.\n",
        "\n",
        "📌 También podés probar pasar la variable como **parámetro de una función** en vez de usar `global`.\n"
      ],
      "metadata": {
        "id": "F95FI9Yz0r92"
      }
    },
    {
      "cell_type": "code",
      "source": [],
      "metadata": {
        "id": "D5dlQAch0tv2"
      },
      "execution_count": null,
      "outputs": []
    }
  ]
}